{
  "nbformat": 4,
  "nbformat_minor": 0,
  "metadata": {
    "colab": {
      "name": "Untitled10.ipynb",
      "provenance": [],
      "collapsed_sections": []
    },
    "kernelspec": {
      "name": "python3",
      "display_name": "Python 3"
    },
    "language_info": {
      "name": "python"
    }
  },
  "cells": [
    {
      "cell_type": "code",
      "metadata": {
        "id": "ZeyF46MCrEiu"
      },
      "source": [
        ""
      ],
      "execution_count": null,
      "outputs": []
    },
    {
      "cell_type": "markdown",
      "metadata": {
        "id": "e_djT6pLNWF2"
      },
      "source": [
        "1"
      ]
    },
    {
      "cell_type": "markdown",
      "metadata": {
        "id": "NutllUT0rYgU"
      },
      "source": [
        "1Q)\n",
        "convert the above paragraph into vectors using:\n",
        "1)Word2vec\n",
        "2)USE\n",
        "3)ELMO\n",
        "4)Gp2\n",
        "5)Sentence-BERT"
      ]
    },
    {
      "cell_type": "code",
      "metadata": {
        "id": "Go90RiZ8rqfA"
      },
      "source": [
        "text='''paragraph is a series of sentences that are organized and coherent, and are \n",
        "all  related  to  a  single  topic.  Almost  every  piece  of  writing  you  do  that  is \n",
        "longer  than  a  few  sentences  should  be  organized  into  paragraphs.  This  is \n",
        "because paragraphs show a reader where the subdivisions of an essay begin \n",
        "and end, and thus help the reader see the organization of the essay and grasp \n",
        "its main points.\n",
        "Paragraphs  can  contain  many  different  kinds  of  information.  A  paragraph \n",
        "could  contain  a  series  of  brief  examples  or  a  single  long  illustration  of  a \n",
        "general  point.  It  might  describe  a  place like kolkata,  character,  or  process;  narrate  a \n",
        "series of events; compare or contrast two or more things; classify items into \n",
        "categories;  or  describe  causes  and  effects.  Regardless  of  the  kind  of \n",
        "information they contain, all paragraphs share certain characteristics. One \n",
        "of the most important of these is a topic sentence.'''"
      ],
      "execution_count": null,
      "outputs": []
    },
    {
      "cell_type": "code",
      "metadata": {
        "colab": {
          "base_uri": "https://localhost:8080/"
        },
        "id": "o0EAunqbr9Zb",
        "outputId": "7b4ad1da-0aa5-4208-a382-cc1246ef0e26"
      },
      "source": [
        "import numpy as np\n",
        "import nltk\n",
        "import re\n",
        "import gensim\n",
        "from nltk.corpus import stopwords\n",
        "from gensim.models import Word2Vec\n",
        "from gensim import corpora,models,similarities\n",
        "from nltk.tokenize import PunktSentenceTokenizer\n",
        "nltk.download('punkt')"
      ],
      "execution_count": null,
      "outputs": [
        {
          "output_type": "stream",
          "name": "stdout",
          "text": [
            "[nltk_data] Downloading package punkt to /root/nltk_data...\n",
            "[nltk_data]   Unzipping tokenizers/punkt.zip.\n"
          ]
        },
        {
          "output_type": "execute_result",
          "data": {
            "text/plain": [
              "True"
            ]
          },
          "metadata": {},
          "execution_count": 5
        }
      ]
    },
    {
      "cell_type": "markdown",
      "metadata": {
        "id": "hyVuLCwtsPyd"
      },
      "source": [
        "Implementing Word2vec"
      ]
    },
    {
      "cell_type": "code",
      "metadata": {
        "colab": {
          "base_uri": "https://localhost:8080/"
        },
        "id": "my359l3VsSvR",
        "outputId": "cfe71661-0423-4d93-862e-d8538a5da4a3"
      },
      "source": [
        "def paragraphs(paragraph):\n",
        "    tokenizer = nltk.data.load('tokenizers/punkt/english.pickle')\n",
        "    #tokennizer=PunktSentenceTokenizer(english.pickle)\n",
        "    raw_sentences = tokenizer.tokenize(paragraph.strip())\n",
        "    s1 = []\n",
        "    for raw_sentence in raw_sentences:\n",
        "        if len(raw_sentence) > 0:\n",
        "            s1.append((raw_sentence))\n",
        "    return s1\n",
        "\n",
        "s1=paragraphs(text)\n",
        "\n",
        "s1\n"
      ],
      "execution_count": null,
      "outputs": [
        {
          "output_type": "execute_result",
          "data": {
            "text/plain": [
              "['paragraph is a series of sentences that are organized and coherent, and are \\nall  related  to  a  single  topic.',\n",
              " 'Almost  every  piece  of  writing  you  do  that  is \\nlonger  than  a  few  sentences  should  be  organized  into  paragraphs.',\n",
              " 'This  is \\nbecause paragraphs show a reader where the subdivisions of an essay begin \\nand end, and thus help the reader see the organization of the essay and grasp \\nits main points.',\n",
              " 'Paragraphs  can  contain  many  different  kinds  of  information.',\n",
              " 'A  paragraph \\ncould  contain  a  series  of  brief  examples  or  a  single  long  illustration  of  a \\ngeneral  point.',\n",
              " 'It  might  describe  a  place like kolkata,  character,  or  process;  narrate  a \\nseries of events; compare or contrast two or more things; classify items into \\ncategories;  or  describe  causes  and  effects.',\n",
              " 'Regardless  of  the  kind  of \\ninformation they contain, all paragraphs share certain characteristics.',\n",
              " 'One \\nof the most important of these is a topic sentence.']"
            ]
          },
          "metadata": {},
          "execution_count": 6
        }
      ]
    },
    {
      "cell_type": "code",
      "metadata": {
        "colab": {
          "base_uri": "https://localhost:8080/"
        },
        "id": "myti9RE7s-2C",
        "outputId": "594a2736-3990-4f77-d9bc-af477d240604"
      },
      "source": [
        "wordvecs=[nltk.word_tokenize(sent) for sent in s1]\n",
        "print(wordvecs)"
      ],
      "execution_count": null,
      "outputs": [
        {
          "output_type": "stream",
          "name": "stdout",
          "text": [
            "[['paragraph', 'is', 'a', 'series', 'of', 'sentences', 'that', 'are', 'organized', 'and', 'coherent', ',', 'and', 'are', 'all', 'related', 'to', 'a', 'single', 'topic', '.'], ['Almost', 'every', 'piece', 'of', 'writing', 'you', 'do', 'that', 'is', 'longer', 'than', 'a', 'few', 'sentences', 'should', 'be', 'organized', 'into', 'paragraphs', '.'], ['This', 'is', 'because', 'paragraphs', 'show', 'a', 'reader', 'where', 'the', 'subdivisions', 'of', 'an', 'essay', 'begin', 'and', 'end', ',', 'and', 'thus', 'help', 'the', 'reader', 'see', 'the', 'organization', 'of', 'the', 'essay', 'and', 'grasp', 'its', 'main', 'points', '.'], ['Paragraphs', 'can', 'contain', 'many', 'different', 'kinds', 'of', 'information', '.'], ['A', 'paragraph', 'could', 'contain', 'a', 'series', 'of', 'brief', 'examples', 'or', 'a', 'single', 'long', 'illustration', 'of', 'a', 'general', 'point', '.'], ['It', 'might', 'describe', 'a', 'place', 'like', 'kolkata', ',', 'character', ',', 'or', 'process', ';', 'narrate', 'a', 'series', 'of', 'events', ';', 'compare', 'or', 'contrast', 'two', 'or', 'more', 'things', ';', 'classify', 'items', 'into', 'categories', ';', 'or', 'describe', 'causes', 'and', 'effects', '.'], ['Regardless', 'of', 'the', 'kind', 'of', 'information', 'they', 'contain', ',', 'all', 'paragraphs', 'share', 'certain', 'characteristics', '.'], ['One', 'of', 'the', 'most', 'important', 'of', 'these', 'is', 'a', 'topic', 'sentence', '.']]\n"
          ]
        }
      ]
    },
    {
      "cell_type": "code",
      "metadata": {
        "colab": {
          "base_uri": "https://localhost:8080/"
        },
        "id": "Z43tYnPttNgC",
        "outputId": "dd3689b7-11c7-4690-e24a-2b7880acda7d"
      },
      "source": [
        "from nltk.corpus import stopwords\n",
        "nltk.download('stopwords')\n",
        "stops=list(set(stopwords.words(\"english\")))\n"
      ],
      "execution_count": null,
      "outputs": [
        {
          "output_type": "stream",
          "name": "stdout",
          "text": [
            "[nltk_data] Downloading package stopwords to /root/nltk_data...\n",
            "[nltk_data]   Unzipping corpora/stopwords.zip.\n"
          ]
        }
      ]
    },
    {
      "cell_type": "code",
      "metadata": {
        "id": "dqFmatyhtTXz"
      },
      "source": [
        "for i in wordvecs:\n",
        "  for j in i:\n",
        "    if j in stops:\n",
        "      i.remove(j)\n",
        "    elif len(j)==1:\n",
        "      i.remove(j)\n"
      ],
      "execution_count": null,
      "outputs": []
    },
    {
      "cell_type": "code",
      "metadata": {
        "id": "Edqoo_cqzYeO",
        "colab": {
          "base_uri": "https://localhost:8080/"
        },
        "outputId": "bf63c2ad-fff7-4b69-af39-9e10d0698f6a"
      },
      "source": [
        "a1=gensim.models.Word2Vec(wordvecs,min_count=2,size=32)"
      ],
      "execution_count": null,
      "outputs": [
        {
          "output_type": "stream",
          "name": "stderr",
          "text": [
            "WARNING:gensim.models.base_any2vec:under 10 jobs per worker: consider setting a smaller `batch_words' for smoother alpha decay\n"
          ]
        }
      ]
    },
    {
      "cell_type": "code",
      "metadata": {
        "colab": {
          "base_uri": "https://localhost:8080/"
        },
        "id": "JPaVFQK5ziDX",
        "outputId": "17d95e2a-f93c-49d2-bf07-53604ff37fc8"
      },
      "source": [
        "print(a1['paragraph'])"
      ],
      "execution_count": null,
      "outputs": [
        {
          "output_type": "stream",
          "name": "stdout",
          "text": [
            "[-0.00163848 -0.01328121 -0.0008185  -0.00996232  0.01494865  0.00603059\n",
            " -0.00056435  0.00313416  0.00428503 -0.01232006 -0.00572135 -0.00251251\n",
            " -0.00192332  0.01111202 -0.01476303 -0.00117285  0.01351145  0.01460874\n",
            " -0.0056746   0.00250462  0.00730709 -0.0113718  -0.01310925 -0.0108248\n",
            "  0.00120143 -0.00906326 -0.00216329 -0.00850076 -0.01453207  0.01551299\n",
            " -0.01417145  0.00178814]\n"
          ]
        },
        {
          "output_type": "stream",
          "name": "stderr",
          "text": [
            "/usr/local/lib/python3.7/dist-packages/ipykernel_launcher.py:1: DeprecationWarning: Call to deprecated `__getitem__` (Method will be removed in 4.0.0, use self.wv.__getitem__() instead).\n",
            "  \"\"\"Entry point for launching an IPython kernel.\n"
          ]
        }
      ]
    },
    {
      "cell_type": "code",
      "metadata": {
        "colab": {
          "base_uri": "https://localhost:8080/"
        },
        "id": "T2uB1REszsp4",
        "outputId": "b8fe845f-8e37-4594-a5f4-8bf59db88eb5"
      },
      "source": [
        "a1.most_similar('topic')"
      ],
      "execution_count": null,
      "outputs": [
        {
          "output_type": "stream",
          "name": "stderr",
          "text": [
            "/usr/local/lib/python3.7/dist-packages/ipykernel_launcher.py:1: DeprecationWarning: Call to deprecated `most_similar` (Method will be removed in 4.0.0, use self.wv.most_similar() instead).\n",
            "  \"\"\"Entry point for launching an IPython kernel.\n"
          ]
        },
        {
          "output_type": "execute_result",
          "data": {
            "text/plain": [
              "[('essay', 0.2527400851249695),\n",
              " ('contain', 0.14118912816047668),\n",
              " ('describe', 0.10396809875965118),\n",
              " ('reader', 0.06034781038761139),\n",
              " ('or', 0.042252317070961),\n",
              " ('sentences', 0.023958638310432434),\n",
              " ('paragraph', 0.021283943206071854),\n",
              " ('single', 0.0059489235281944275),\n",
              " ('organized', -0.0025388672947883606),\n",
              " ('all', -0.03183191269636154)]"
            ]
          },
          "metadata": {},
          "execution_count": 12
        }
      ]
    },
    {
      "cell_type": "markdown",
      "metadata": {
        "id": "xIVbFppsV6lE"
      },
      "source": [
        "Implementing USE"
      ]
    },
    {
      "cell_type": "code",
      "metadata": {
        "id": "tHy6oTVnV6GH"
      },
      "source": [
        "#importing USE model\n",
        "import tensorflow_hub as hub\n",
        "use= hub.load(\"https://tfhub.dev/google/universal-sentence-encoder/4\")"
      ],
      "execution_count": null,
      "outputs": []
    },
    {
      "cell_type": "code",
      "metadata": {
        "colab": {
          "base_uri": "https://localhost:8080/"
        },
        "id": "t_A6O3_fV50u",
        "outputId": "8cbb2f66-d6d2-447b-dfd2-65fe25fdf3d4"
      },
      "source": [
        "#converting to vectors\n",
        "embeddings=use(s1)\n",
        "print(embeddings)"
      ],
      "execution_count": null,
      "outputs": [
        {
          "output_type": "stream",
          "name": "stdout",
          "text": [
            "tf.Tensor(\n",
            "[[ 0.01441376 -0.00984094  0.0628287  ... -0.08254974 -0.0109123\n",
            "   0.03994774]\n",
            " [ 0.02902018 -0.00415597  0.07664446 ... -0.06830524 -0.00835191\n",
            "   0.04397805]\n",
            " [ 0.06417768 -0.01383496  0.05436629 ... -0.06510986  0.03140234\n",
            "   0.05601776]\n",
            " ...\n",
            " [ 0.03916588 -0.04617031  0.05728424 ... -0.06261517  0.01769786\n",
            "   0.03013913]\n",
            " [ 0.0167906   0.00667928  0.01125342 ... -0.01703941  0.00186954\n",
            "   0.03127917]\n",
            " [ 0.00255486 -0.05832284  0.01486255 ... -0.09906971 -0.07840379\n",
            "   0.06731212]], shape=(8, 512), dtype=float32)\n"
          ]
        }
      ]
    },
    {
      "cell_type": "code",
      "metadata": {
        "colab": {
          "base_uri": "https://localhost:8080/"
        },
        "id": "o74g-ocCV5i1",
        "outputId": "e7cfe2eb-f1de-409f-d88f-4224590276f2"
      },
      "source": [
        "print(embeddings[0].shape)\n",
        "#each sentence is converted into vector having 512 values"
      ],
      "execution_count": null,
      "outputs": [
        {
          "output_type": "stream",
          "name": "stdout",
          "text": [
            "(512,)\n"
          ]
        }
      ]
    },
    {
      "cell_type": "code",
      "metadata": {
        "colab": {
          "base_uri": "https://localhost:8080/"
        },
        "id": "flMxStuWV48E",
        "outputId": "fc74db65-4392-4cef-b74f-27ac4cb490ef"
      },
      "source": [
        "print(\"The sentence: \",s1[0],\"\\n is converted as : \\n{}\".format(embeddings[0]))"
      ],
      "execution_count": null,
      "outputs": [
        {
          "output_type": "stream",
          "name": "stdout",
          "text": [
            "The sentence:  paragraph is a series of sentences that are organized and coherent, and are \n",
            "all  related  to  a  single  topic. \n",
            " is converted as : \n",
            "[ 1.44137572e-02 -9.84094385e-03  6.28287047e-02  8.45204443e-02\n",
            " -4.04968783e-02  1.18123991e-02  7.50923529e-03  3.10645662e-02\n",
            " -5.53238951e-02  5.08681908e-02 -6.62595965e-03  6.21466432e-03\n",
            " -7.33139887e-02  2.78433803e-02 -6.93214834e-02 -9.56341997e-02\n",
            " -2.23075598e-02  5.19505851e-02 -9.15191844e-02 -5.61617725e-02\n",
            "  2.64701452e-02  7.38285333e-02 -2.31883377e-02  3.02830841e-02\n",
            " -2.74892636e-02  3.89690325e-02 -4.30251993e-02 -6.84110597e-02\n",
            " -2.21656859e-02 -1.52206682e-02  8.38942900e-02 -2.57302392e-02\n",
            "  1.39045427e-02  4.12734970e-03 -8.07633847e-02  3.01108919e-02\n",
            "  5.26596867e-02  2.22226940e-02  3.58812623e-02  4.13581058e-02\n",
            " -1.34647610e-02  5.85752390e-02  3.73052843e-02  5.20332716e-02\n",
            "  5.40907383e-02  1.17542399e-02  5.53883798e-03 -5.81416488e-02\n",
            " -3.11164260e-02  2.14572698e-02  1.71291903e-02  6.84089288e-02\n",
            "  9.68868285e-03 -2.85419598e-02 -2.22274605e-02 -2.18103267e-02\n",
            "  1.05088940e-02  5.63389547e-02  2.77899653e-02  1.61964484e-02\n",
            " -3.70678641e-02 -5.10951579e-02  6.67165294e-02  5.34740277e-02\n",
            "  4.15020958e-02  3.27109359e-02  4.12475877e-02 -2.12107729e-02\n",
            "  6.20211773e-02 -6.68005347e-02  2.85828002e-02  5.55738201e-03\n",
            "  4.43285741e-02  4.77229431e-02 -7.77068883e-02  5.76424710e-02\n",
            " -7.36226737e-02  3.65955904e-02  1.10316779e-02 -1.80374961e-02\n",
            " -4.73274365e-02 -6.63422868e-02  3.77610363e-02  4.08032313e-02\n",
            "  2.80292090e-02  1.24058574e-02  1.05338693e-02 -1.42786400e-02\n",
            " -9.26295742e-02 -4.51336317e-02  3.99943069e-02  1.33264548e-04\n",
            "  1.71093754e-02 -3.91108878e-02  2.48007998e-02  8.47586319e-02\n",
            " -9.24858525e-02 -6.36595711e-02  4.78755906e-02 -4.75080917e-03\n",
            "  2.53511053e-02 -3.34447734e-02 -7.25499615e-02  4.71539795e-02\n",
            " -5.59136597e-03  1.54723297e-03  4.97729816e-02  3.84755060e-02\n",
            " -4.78359498e-02 -1.42824035e-02 -1.17941406e-02  4.99430718e-03\n",
            " -4.37340373e-03  3.44162472e-02  2.74662748e-02  1.04758041e-02\n",
            " -8.39973539e-02 -8.25375505e-03  4.85862046e-03 -2.56375456e-03\n",
            "  2.83041708e-02 -2.14365330e-02 -2.33439784e-02 -4.98219877e-02\n",
            "  3.27449627e-02  1.63123943e-02 -4.59956080e-02  3.57719284e-04\n",
            "  5.67260496e-02 -3.39259952e-02  2.44784765e-02 -3.90041322e-02\n",
            "  1.22445426e-03  6.35810643e-02  5.24940789e-02 -8.57948661e-02\n",
            "  6.72299284e-05 -7.36718774e-02 -2.87292479e-03  3.45791616e-02\n",
            " -5.73490076e-02  4.20262553e-02  4.05993052e-02  1.61485821e-02\n",
            "  3.14709991e-02  2.02538492e-03 -1.13434773e-02  8.04565288e-03\n",
            "  6.81634545e-02 -7.20112994e-02 -4.62771095e-02 -8.68803486e-02\n",
            "  7.77582172e-03  6.62434846e-02  6.87280030e-04 -7.58470073e-02\n",
            " -1.85400601e-02 -1.57781318e-02 -7.80370319e-03  1.75552107e-02\n",
            "  4.45580073e-02 -3.42864580e-02  7.54052848e-02  4.57240902e-02\n",
            "  3.82822081e-02 -1.61609519e-02  5.27985115e-03 -5.83953783e-02\n",
            "  7.19056278e-02  5.07474802e-02 -3.27086099e-03  7.43639097e-02\n",
            " -3.06208730e-02 -3.77828768e-03 -4.20092829e-02  6.89291432e-02\n",
            "  3.09197418e-02  3.41209210e-02  7.22458167e-03 -2.37129685e-02\n",
            "  3.89003158e-02 -9.43663996e-03 -8.87223706e-02  1.47687420e-02\n",
            " -2.55948380e-02  1.80361774e-02  1.46985464e-02 -5.22930361e-02\n",
            " -4.24573645e-02  2.04504505e-02  7.60129392e-02  6.44430369e-02\n",
            "  8.08334425e-02 -6.15496933e-03  3.08204144e-02 -1.38738425e-02\n",
            " -4.58264071e-03  1.82122197e-02  2.87208632e-02  7.11824521e-02\n",
            " -1.12329358e-02  2.11758614e-02  2.27961480e-03  8.74234422e-04\n",
            " -3.82745378e-02  2.91338246e-02  9.26166624e-02  3.12790647e-02\n",
            " -6.31076470e-03 -2.41443384e-02 -5.38244545e-02  5.03621884e-02\n",
            " -6.72854185e-02  7.34158829e-02  6.19413927e-02 -2.04933602e-02\n",
            " -4.03141719e-04  5.07047027e-02  7.38436356e-02  5.42650558e-02\n",
            " -5.32938056e-02 -3.81418429e-02  6.99450821e-02  2.39569563e-02\n",
            " -4.70106537e-03 -3.36175635e-02  3.52064073e-02  1.23935472e-02\n",
            "  2.16152612e-02 -5.10771647e-02 -2.92897094e-02  3.82118747e-02\n",
            " -2.92571727e-03 -4.81274277e-02  9.10885483e-02  4.62643057e-03\n",
            "  7.32466057e-02  1.80009892e-03  4.29834351e-02 -4.12433371e-02\n",
            " -7.58557767e-02  4.04859334e-02  2.03122050e-02 -6.75884038e-02\n",
            " -1.31276194e-02 -7.16595128e-02 -6.48258850e-02  2.55374499e-02\n",
            " -5.01735248e-02 -2.45413799e-02  3.37030850e-02 -7.76531771e-02\n",
            " -3.08946837e-02 -5.25958324e-03 -1.82516186e-03 -9.53382328e-02\n",
            "  3.22788842e-02 -3.52492034e-02 -2.88244570e-03 -2.83534545e-02\n",
            "  1.70134138e-02  9.24808756e-02  1.87491924e-02 -3.49094756e-02\n",
            " -8.58783629e-03 -9.43140476e-04  2.78601330e-02 -4.55771238e-02\n",
            "  1.64785981e-02 -5.54473549e-02 -2.07154639e-02 -6.46479949e-02\n",
            "  2.58927681e-02  3.33534330e-02  4.34976816e-02  1.45836575e-02\n",
            " -5.21256924e-02  1.09731369e-02  5.17062619e-02  6.35733604e-02\n",
            "  6.01425879e-02  3.27360556e-02  5.95192909e-02  4.44376608e-03\n",
            " -4.90956195e-02 -1.32217975e-02  1.16529791e-02 -5.43845482e-02\n",
            "  3.33959796e-02 -5.17203882e-02 -5.28935492e-02  2.58207992e-02\n",
            " -8.85815471e-02  4.98911412e-03 -3.83054912e-02 -5.34750111e-02\n",
            " -2.60686297e-02  2.87975222e-02  2.85326485e-02  2.94134449e-02\n",
            " -2.96604931e-02 -2.59407274e-02  4.93812971e-02 -4.92378846e-02\n",
            "  1.41995531e-02 -3.76009345e-02  3.23178843e-02 -5.55559061e-02\n",
            " -2.45458316e-02 -2.94937030e-03  6.50941674e-03 -3.88181955e-02\n",
            "  3.72960344e-02  2.90980190e-03 -3.08478717e-02 -3.62469777e-02\n",
            " -4.45399928e-04  6.43191636e-02  5.63032087e-03  6.77194027e-03\n",
            " -6.18998474e-03 -7.56026730e-02  3.80388796e-02 -4.20533605e-02\n",
            " -8.19402933e-02 -2.07546055e-02 -8.34290758e-02  8.11722055e-02\n",
            "  3.67023535e-02 -1.20668132e-02  3.91007867e-03 -5.35958856e-02\n",
            "  1.20763872e-02 -5.33013009e-02 -1.18342442e-02  5.29677793e-02\n",
            " -4.08055214e-03  3.40155400e-02 -1.04215220e-02  7.62341842e-02\n",
            "  3.99028026e-02 -3.50995436e-02 -3.47164646e-02 -4.98320386e-02\n",
            " -8.95655751e-02 -3.45451315e-03  7.86054805e-02  5.42760938e-02\n",
            "  3.28084198e-03  1.30599011e-02 -7.64467046e-02  2.17983243e-03\n",
            "  3.08717974e-02 -4.02856618e-03  7.70643428e-02  2.95636002e-02\n",
            " -8.55609700e-02 -2.57261265e-02 -6.29591709e-03 -6.80818781e-02\n",
            " -1.10677015e-02  1.36054051e-03 -7.90766776e-02 -1.00934422e-02\n",
            " -5.87053038e-03  6.22805357e-02  6.00157455e-02 -2.56303162e-03\n",
            "  2.96320475e-04 -4.71954383e-02  6.62596337e-03 -2.01278757e-02\n",
            "  7.24973604e-02  8.98661539e-02  4.21668775e-03  2.86712572e-02\n",
            "  1.28559209e-02  1.84282456e-02 -2.50626123e-03 -1.96565297e-02\n",
            " -4.25222553e-02  1.38441883e-02 -1.24764647e-02  3.63628939e-02\n",
            " -1.62148401e-02  2.52010636e-02 -6.44652396e-02 -2.84936260e-02\n",
            "  1.61481427e-03 -2.39431914e-02 -8.66288505e-03 -2.13903412e-02\n",
            " -5.17183170e-02  6.02995306e-02 -1.43296197e-02 -4.22454402e-02\n",
            "  3.69258262e-02 -2.63818447e-02 -8.51088855e-03  3.87135781e-02\n",
            "  2.94712335e-02  1.67814437e-02 -4.90604639e-02  4.12825160e-02\n",
            "  2.38982923e-02  3.72901671e-02  1.51855415e-02 -5.24835028e-02\n",
            " -5.09076715e-02  6.18686192e-02  3.08925938e-02 -3.36935483e-02\n",
            "  5.18433861e-02 -2.09936425e-02 -1.33295553e-02 -2.47067790e-02\n",
            "  4.01580147e-02  3.18180327e-03  2.68130694e-02 -7.26469979e-02\n",
            "  3.72562814e-03 -6.99352100e-02 -6.40728325e-02  3.14914361e-02\n",
            "  4.35795747e-02  5.96801564e-02  4.42797616e-02  8.82137790e-02\n",
            " -6.63178414e-02  5.55627458e-02 -4.73847473e-03  2.70616785e-02\n",
            "  4.65009287e-02 -7.55722076e-03 -3.88662666e-02 -4.78958227e-02\n",
            " -1.50384009e-02  2.62823589e-02  3.91332842e-02 -7.26432502e-02\n",
            "  1.33797908e-02  8.64133388e-02 -6.43041730e-02 -2.45376327e-03\n",
            " -1.65073294e-02 -4.74970415e-03 -1.49955861e-02  2.01814268e-02\n",
            "  7.01357797e-02 -4.11252724e-03  1.56761538e-02 -1.96855739e-02\n",
            " -8.21148083e-02 -6.91091940e-02  7.10727349e-02 -6.58875704e-02\n",
            "  5.18114008e-02  7.06161410e-02  8.01648945e-02 -5.63150048e-02\n",
            " -1.09789325e-02  8.01893398e-02 -3.34813744e-02 -1.58855189e-02\n",
            " -9.31282714e-03 -8.82081315e-02 -6.50509596e-02  2.75655966e-02\n",
            "  2.45375615e-02  7.29645416e-02 -5.57592921e-02 -1.39858704e-02\n",
            " -1.39741199e-02 -3.36927064e-02  1.09227542e-02  3.31100784e-02\n",
            "  2.91098841e-02 -2.39294637e-02 -3.98432799e-02  4.52849269e-03\n",
            " -1.27274487e-02 -1.15013169e-02  7.17918715e-03 -8.06083009e-02\n",
            "  2.33094045e-03 -8.63877609e-02 -4.27227505e-02 -4.73671332e-02\n",
            "  3.28275003e-02  3.00148446e-02  3.55141237e-02  5.59815113e-03\n",
            "  6.68623373e-02  1.89112686e-02  4.67100516e-02  1.46850841e-02\n",
            " -3.27761546e-02 -1.87409148e-02  4.18469533e-02  4.96712625e-02\n",
            "  3.50054801e-02 -3.97304483e-02  3.85128967e-02  8.21181908e-02\n",
            "  7.54463673e-02  1.52537115e-02 -1.16493749e-02 -5.97250946e-02\n",
            "  5.00268862e-02 -8.25497434e-02 -1.09122964e-02  3.99477370e-02]\n"
          ]
        }
      ]
    },
    {
      "cell_type": "markdown",
      "metadata": {
        "id": "1xRb7nIOVhfs"
      },
      "source": [
        "Implementing ELMOS\n"
      ]
    },
    {
      "cell_type": "code",
      "metadata": {
        "id": "mcXsBMvJVl5J"
      },
      "source": [
        "!pip install \"tensorflow>=2.0.0\"\n",
        "!pip install --upgrade tensorflow-hub"
      ],
      "execution_count": null,
      "outputs": []
    },
    {
      "cell_type": "code",
      "metadata": {
        "colab": {
          "base_uri": "https://localhost:8080/"
        },
        "id": "hLRM-4f3VxI3",
        "outputId": "9275ef52-873f-410f-8022-2889973f3760"
      },
      "source": [
        "import tensorflow_hub as hub\n",
        "import tensorflow.compat.v1 as tf\n",
        "tf.disable_eager_execution()\n",
        "\n",
        "elmo=hub.Module(\"https://tfhub.dev/google/elmo/3\",trainable=True)\n",
        "embeddings=elmo(\n",
        "    s1,\n",
        "    signature=\"default\",\n",
        "    as_dict=True)[\"elmo\"]\n",
        "init=tf.initialize_all_variables()\n",
        "sess=tf.Session()\n",
        "sess.run(init)\n",
        "\n",
        "\n",
        "print(sess.run(embeddings[0]))\n",
        "\n",
        "\n",
        "print(embeddings[0].shape)"
      ],
      "execution_count": null,
      "outputs": [
        {
          "output_type": "stream",
          "name": "stdout",
          "text": [
            "INFO:tensorflow:Saver not created because there are no variables in the graph to restore\n"
          ]
        },
        {
          "output_type": "stream",
          "name": "stderr",
          "text": [
            "INFO:tensorflow:Saver not created because there are no variables in the graph to restore\n"
          ]
        },
        {
          "output_type": "stream",
          "name": "stdout",
          "text": [
            "WARNING:tensorflow:From /usr/local/lib/python3.7/dist-packages/tensorflow/python/util/tf_should_use.py:247: initialize_all_variables (from tensorflow.python.ops.variables) is deprecated and will be removed after 2017-03-02.\n",
            "Instructions for updating:\n",
            "Use `tf.global_variables_initializer` instead.\n"
          ]
        },
        {
          "output_type": "stream",
          "name": "stderr",
          "text": [
            "WARNING:tensorflow:From /usr/local/lib/python3.7/dist-packages/tensorflow/python/util/tf_should_use.py:247: initialize_all_variables (from tensorflow.python.ops.variables) is deprecated and will be removed after 2017-03-02.\n",
            "Instructions for updating:\n",
            "Use `tf.global_variables_initializer` instead.\n"
          ]
        },
        {
          "output_type": "stream",
          "name": "stdout",
          "text": [
            "[[ 0.12622021  0.43023553  0.4043871  ...  0.2956011   0.36285305\n",
            "   0.46462518]\n",
            " [-0.0062146   0.333897    0.10469673 ... -0.6752867   0.36227596\n",
            "   0.7219782 ]\n",
            " [ 0.00899898  0.4038667   0.13564664 ... -0.08189104  0.2564967\n",
            "  -0.27705106]\n",
            " ...\n",
            " [-0.02840841 -0.04353216  0.04130163 ...  0.02583168 -0.01429836\n",
            "  -0.01650422]\n",
            " [-0.02840841 -0.04353216  0.04130163 ...  0.02583168 -0.01429836\n",
            "  -0.01650422]\n",
            " [-0.02840841 -0.04353216  0.04130163 ...  0.02583168 -0.01429836\n",
            "  -0.01650422]]\n",
            "(32, 1024)\n"
          ]
        }
      ]
    },
    {
      "cell_type": "markdown",
      "metadata": {
        "id": "Qs5HyNJfWtJb"
      },
      "source": [
        "Implementing Sentence bert"
      ]
    },
    {
      "cell_type": "code",
      "metadata": {
        "id": "YkygLnZXiqsF"
      },
      "source": [
        "pip install -U sentence-transformers"
      ],
      "execution_count": null,
      "outputs": []
    },
    {
      "cell_type": "code",
      "metadata": {
        "id": "XuCRqvGBjBUs"
      },
      "source": [
        "from sentence_transformers import SentenceTransformer\n",
        "sbert_model = SentenceTransformer('bert-base-nli-mean-tokens')"
      ],
      "execution_count": null,
      "outputs": []
    },
    {
      "cell_type": "code",
      "metadata": {
        "id": "gTollU8EjQJc"
      },
      "source": [
        "sentence_embeddings = sbert_model.encode(s1)"
      ],
      "execution_count": null,
      "outputs": []
    },
    {
      "cell_type": "code",
      "metadata": {
        "colab": {
          "base_uri": "https://localhost:8080/"
        },
        "id": "38BvidT8jsb3",
        "outputId": "f2e6d8a1-ff34-4fe7-8dfe-8bff18fabc54"
      },
      "source": [
        "print(sentence_embeddings)"
      ],
      "execution_count": null,
      "outputs": [
        {
          "output_type": "stream",
          "name": "stdout",
          "text": [
            "[[-0.05207721  0.20371142  0.88940877 ...  0.4372196  -0.13668528\n",
            "   0.434745  ]\n",
            " [-0.246068    0.42751387 -0.195479   ... -0.0158648   0.5062018\n",
            "  -0.05654578]\n",
            " [-1.4592078   0.15521061  0.90705234 ... -0.08305919 -0.77138746\n",
            "  -0.02588184]\n",
            " ...\n",
            " [ 0.37590703 -0.510797    1.5843381  ... -0.11606648 -0.51473624\n",
            "  -0.16396102]\n",
            " [ 0.22047004  0.48028407  1.0816926  ...  0.487172    0.04834328\n",
            "   0.5011831 ]\n",
            " [-0.55600786  0.01799421  1.0428848  ... -0.67446005 -0.8762555\n",
            "  -0.19927676]]\n"
          ]
        }
      ]
    },
    {
      "cell_type": "code",
      "metadata": {
        "colab": {
          "base_uri": "https://localhost:8080/"
        },
        "id": "_kqdV91ij2q7",
        "outputId": "c44bf5fd-f0e7-4d18-fdf9-9e586849fe77"
      },
      "source": [
        "print(sentence_embeddings[0].shape)"
      ],
      "execution_count": null,
      "outputs": [
        {
          "output_type": "stream",
          "name": "stdout",
          "text": [
            "(768,)\n"
          ]
        }
      ]
    },
    {
      "cell_type": "code",
      "metadata": {
        "colab": {
          "base_uri": "https://localhost:8080/"
        },
        "id": "WVB8bohdkDcE",
        "outputId": "6f688888-d816-4f28-9ed0-7498c10d262e"
      },
      "source": [
        "print(\"The sentence: \",s1[0],\"\\n is converted as : \\n{}\".format(sentence_embeddings[0]))"
      ],
      "execution_count": null,
      "outputs": [
        {
          "output_type": "stream",
          "name": "stdout",
          "text": [
            "The sentence:  paragraph is a series of sentences that are organized and coherent, and are \n",
            "all  related  to  a  single  topic. \n",
            " is converted as : \n",
            "[-5.20772114e-02  2.03711420e-01  8.89408767e-01  6.05270088e-01\n",
            "  8.47702771e-02 -8.89162838e-01 -2.91349322e-01  2.38949984e-01\n",
            " -6.71309829e-02 -3.37288886e-01 -7.33644009e-01  3.63085657e-01\n",
            " -2.18234226e-01  2.34863743e-01  5.30445516e-01  2.33406559e-01\n",
            " -2.44862303e-01 -6.24430835e-01  5.54251313e-01 -4.77696627e-01\n",
            " -2.26011366e-01  1.96432531e-01 -1.10385442e+00 -1.25761068e+00\n",
            "  3.75989139e-01 -5.66871464e-01  3.98921967e-01 -7.77364910e-01\n",
            " -4.19717908e-01  4.71965134e-01 -3.45367901e-02  7.36971721e-02\n",
            "  9.73641872e-01 -6.30032480e-01  4.86497164e-01  5.01798391e-01\n",
            "  8.99959564e-01  8.01355302e-01  1.12452924e-01 -7.02552021e-01\n",
            "  1.59111154e+00  1.12351574e-01  3.97126019e-01 -5.22532821e-01\n",
            " -6.23159528e-01 -3.97510290e-01 -4.17270899e-01  2.14447603e-01\n",
            " -4.88747895e-01  5.52289262e-02 -9.15866673e-01 -3.71120065e-01\n",
            "  5.01220524e-01  2.75910884e-01 -5.43558121e-01  7.47313797e-01\n",
            "  1.73115209e-01 -8.45734954e-01  1.51989743e-01 -7.15464577e-02\n",
            " -3.55624825e-01 -6.75342381e-01  6.94123864e-01  3.52687329e-01\n",
            " -3.75272371e-02  2.87602603e-01  3.89101535e-01  3.48887771e-01\n",
            " -9.67147648e-01  2.41667688e-01  4.95137990e-01 -5.02361357e-01\n",
            " -1.73895165e-01  2.98059493e-01 -2.85985917e-01 -3.89511675e-01\n",
            "  5.16414165e-01  2.73668915e-02  1.86178222e-01  6.49381042e-01\n",
            " -5.88710189e-01  3.69128644e-01  7.75538236e-02 -1.62614331e-01\n",
            " -3.65304947e-02 -3.54319960e-01  6.98198557e-01  1.29937530e-01\n",
            " -7.82779038e-01  8.08812439e-01  3.85775805e-01  1.19298317e-01\n",
            "  8.78995419e-01 -1.06841969e+00  2.38103122e-01 -7.80383050e-01\n",
            "  2.84226030e-01  3.32351089e-01  1.22902520e-01 -1.68128520e-01\n",
            " -1.06729496e+00 -3.33175026e-02 -5.65257847e-01 -3.20046723e-01\n",
            " -3.65938187e-01  6.36912704e-01  4.33382779e-01 -7.98691154e-01\n",
            "  2.63334066e-01  3.20251971e-01  1.91573054e-01 -3.38647962e-01\n",
            " -7.62940943e-02  3.20734203e-01 -4.25293088e-01  3.84924859e-02\n",
            " -5.61511517e-01  4.91669953e-01  3.66741836e-01  6.95768952e-01\n",
            " -7.45325000e-04  5.47497630e-01 -6.30261227e-02 -4.22624499e-01\n",
            "  1.19549751e-01 -9.13781643e-01 -9.01057422e-02  5.40009439e-01\n",
            " -7.06488311e-01 -8.38276371e-02  1.17981143e-01 -2.08807662e-02\n",
            "  1.99898601e-01 -8.30691010e-02  1.25154704e-01 -1.05167821e-01\n",
            "  3.14716041e-01 -9.98293534e-02 -5.41685879e-01 -5.31720161e-01\n",
            " -5.17408311e-01  4.37280148e-01  2.15568766e-02  5.65837733e-02\n",
            " -6.84542209e-02 -5.56255411e-03  4.00792241e-01 -3.79133314e-01\n",
            " -4.00757670e-01 -1.58526391e-01 -6.23717844e-01  5.63890815e-01\n",
            " -5.89125574e-01 -9.45710540e-01 -2.08929211e-01  8.17506731e-01\n",
            " -6.51005685e-01  8.76924455e-01 -2.31397256e-01  1.54591411e-01\n",
            " -1.53885484e-01  7.72541463e-01  6.34371117e-02 -2.45870605e-01\n",
            "  1.95087805e-01 -3.65440458e-01  5.25111258e-02  4.80768293e-01\n",
            " -2.57474065e-01  4.13703591e-01  5.19612670e-01 -2.71233648e-01\n",
            " -4.02665958e-02  1.58944070e-01 -7.53562093e-01 -7.05759376e-02\n",
            "  8.66337180e-01  7.54834354e-01  6.40375197e-01 -1.14772415e+00\n",
            "  2.47684732e-01  3.29295456e-01  4.28710699e-01 -4.28295702e-01\n",
            " -5.07967770e-01 -6.22746527e-01  3.03455859e-01 -6.26287818e-01\n",
            "  2.98353851e-01  6.32491231e-01  1.49795443e-01  5.45479432e-02\n",
            " -2.64751673e-01 -7.90826023e-01  3.84401411e-01  3.99368852e-01\n",
            " -9.64336753e-01  1.40799165e+00 -4.15857941e-01  7.13972509e-01\n",
            "  7.24495173e-01 -1.70013830e-01 -2.90657014e-01 -1.21772039e+00\n",
            " -8.19670130e-03  9.02107835e-01 -3.05495574e-03  1.06192982e+00\n",
            " -1.11154509e+00  2.74502307e-01 -9.61425304e-01  7.72327244e-01\n",
            "  9.99391615e-01  2.27065027e-01 -2.58884132e-01 -1.56538367e-01\n",
            "  6.07419074e-01 -7.44542181e-01  9.65156138e-01 -5.31692684e-01\n",
            "  1.32354450e+00 -6.66731596e-02 -3.88550758e-03  6.89796507e-01\n",
            " -4.77977127e-01  1.93849653e-01  9.71121073e-01  1.90052800e-02\n",
            "  3.72159302e-01 -1.69550195e-01  7.47745991e-01  1.26931295e-01\n",
            "  1.59964815e-01  4.33124304e-01  8.53492498e-01  3.85555655e-01\n",
            "  7.00170100e-01  1.36800975e-01  7.38071918e-01  3.64995927e-01\n",
            "  7.36932278e-01  3.20243537e-01 -1.52140185e-01 -3.16276997e-01\n",
            " -7.41167903e-01 -6.11342564e-02  6.69735968e-01 -3.85543369e-02\n",
            " -8.43195915e-02  6.59016132e-01 -3.09088945e-01 -4.92191285e-01\n",
            "  4.34749909e-02 -3.68388206e-01  3.72317404e-01 -2.51915067e-01\n",
            " -3.72437567e-01 -5.09913504e-01  5.72968982e-02  2.07618177e-01\n",
            " -5.32812595e-01 -7.35405147e-01 -9.20528173e-01 -5.35965450e-02\n",
            " -8.69508147e-01 -5.93224049e-01 -2.19543025e-01 -1.40313029e-01\n",
            " -2.57387549e-01  2.65455931e-01  1.50101855e-01  4.62465316e-01\n",
            " -5.01261890e-01 -4.89126116e-01  1.52632385e-01 -4.01921093e-01\n",
            "  7.68239558e-01 -2.22039223e-01 -4.61062670e-01  7.11077079e-03\n",
            " -1.23728469e-01 -5.85853338e-01 -1.43316650e+00  3.63013923e-01\n",
            "  3.14588130e-01 -7.14011565e-02  7.90429652e-01 -6.77458763e-01\n",
            " -5.54411292e-01  2.91113287e-01 -1.50224730e-01 -9.26864266e-01\n",
            " -4.79508102e-01 -1.12693930e+00  1.41525018e+00  4.44351763e-01\n",
            "  9.59815979e-01 -5.17978013e-01 -1.13749616e-01  2.73106188e-01\n",
            " -1.96796805e-01  6.09183133e-01 -2.49525625e-02 -2.91726828e-01\n",
            " -4.71662223e-01  7.99153820e-02 -4.12335366e-01 -2.43048668e-01\n",
            " -2.87071896e+00 -4.85426903e-01 -1.51529014e+00 -9.35165957e-02\n",
            " -1.26297641e+00  2.59407967e-01 -4.60965604e-01  1.35694072e-01\n",
            " -4.41211194e-01  1.89812616e-01 -7.14095056e-01 -1.21127987e+00\n",
            " -6.47669956e-02  5.24254441e-01  3.62857372e-01 -1.46318346e-01\n",
            "  3.14335376e-01  2.72065073e-01  3.36839825e-01  6.76484287e-01\n",
            "  3.12837213e-02 -4.20564830e-01  1.33964539e+00  2.94004213e-02\n",
            " -4.15812880e-01  5.61143816e-01 -9.30126756e-02  7.30837464e-01\n",
            " -6.01200283e-01 -3.47486883e-01  4.62662399e-01 -3.71722043e-01\n",
            " -8.20224285e-01 -2.30973467e-01 -2.34749377e-01 -6.55595064e-01\n",
            "  1.56097543e+00 -8.83733928e-02  2.20279232e-01 -1.28287864e+00\n",
            "  4.80158240e-01 -3.91674042e-01  1.00471415e-01 -4.46798503e-01\n",
            " -4.82756436e-01  5.62153280e-01 -1.16410530e+00 -2.55529732e-02\n",
            "  5.12233794e-01 -7.36117959e-02 -2.21615300e-01  1.46493584e-01\n",
            "  1.04361141e+00 -5.99566162e-01 -1.03049047e-01  4.36727017e-01\n",
            "  4.70419914e-01 -3.93470153e-02  3.02737504e-01 -3.56061518e-01\n",
            "  9.32578206e-01 -4.08128649e-01  3.85721952e-01 -5.56711078e-01\n",
            " -1.57653466e-01  7.48615265e-01 -2.58838236e-01  3.15830439e-01\n",
            "  6.11734111e-03  6.21404499e-02  6.80846095e-01  3.83264035e-01\n",
            "  1.55595884e-01 -4.20800239e-01 -8.35306123e-02 -3.93980861e-01\n",
            "  2.52453536e-01  9.00097251e-01  3.45545143e-01  4.12190139e-01\n",
            " -1.69685632e-01 -1.88703552e-01  1.43397059e-02  4.80718851e-01\n",
            "  6.70399189e-01  2.80120432e-01  2.85445601e-01 -6.99471354e-01\n",
            " -1.95553616e-01  5.45087993e-01  3.35383303e-02  4.78170486e-03\n",
            "  1.90759197e-01  1.06303883e+00  4.90517735e-01 -8.27135921e-01\n",
            "  6.01249523e-02 -2.01706946e-01  5.95682740e-01 -1.23613012e+00\n",
            " -7.40621611e-02 -8.02836716e-02 -4.07604545e-01 -3.84713471e-01\n",
            " -4.48787898e-01  6.22256994e-01 -1.17853510e+00  2.60571778e-01\n",
            "  6.07362092e-02 -2.76359528e-01 -1.11094691e-01  3.28614950e-01\n",
            " -6.53562844e-01 -7.70395100e-01  4.29529935e-01  3.19736041e-02\n",
            " -4.15806651e-01  1.63126543e-01 -1.00835159e-01 -3.15701842e-01\n",
            " -7.00150669e-01  1.27652347e-01  1.70470908e-01 -1.09703921e-01\n",
            " -1.35841382e+00  3.99581730e-01  3.73568982e-01 -2.90518463e-01\n",
            "  2.87580818e-01 -3.19985777e-01 -8.57161451e-03 -9.07886252e-02\n",
            "  2.32168108e-01 -5.88259846e-02 -8.72252509e-02  6.18589716e-03\n",
            " -6.73425078e-01  6.48121536e-01 -1.83976114e-01  4.33034688e-01\n",
            "  6.05064332e-01 -3.52447748e-01  9.53661837e-03  6.51808560e-01\n",
            "  1.19910508e-01  2.34218389e-01 -9.81274918e-02  4.44945872e-01\n",
            " -5.52128613e-01 -7.03605831e-01  6.58150196e-01 -5.56468368e-01\n",
            "  2.08663613e-01 -1.02590215e+00 -2.78207630e-01 -9.29878056e-02\n",
            " -2.91578293e-01  8.41467321e-01 -4.94503796e-01  4.14083064e-01\n",
            "  3.09735477e-01  3.29196692e-01  3.74048740e-01 -8.39040518e-01\n",
            "  1.01045817e-01  6.49355292e-01  3.28632668e-02  1.18084657e+00\n",
            " -1.46663535e+00  4.86630738e-01 -2.98950016e-01  7.55093634e-01\n",
            "  2.33937532e-01  3.37951273e-01  2.66788095e-01 -5.75653851e-01\n",
            " -1.95498556e-01  5.97564161e-01  1.11588433e-01  6.50312901e-01\n",
            "  7.02554107e-01 -7.09229171e-01 -7.14929223e-01  1.89325914e-01\n",
            " -5.20761609e-01 -8.74794483e-01  3.62009518e-02  1.41271603e+00\n",
            " -1.15369308e+00 -7.72273093e-02  8.86678457e-01 -3.26045424e-01\n",
            "  8.05931687e-01  4.37303096e-01  7.84031376e-02 -4.29359525e-01\n",
            " -1.78174555e-01  3.07776868e-01 -1.76625833e-01 -2.78957695e-01\n",
            " -2.55640656e-01  4.83607709e-01 -8.57225418e-01 -1.82591602e-01\n",
            "  3.77208263e-01 -5.11878490e-01  4.40027684e-01 -5.84007859e-01\n",
            " -2.92402297e-01  8.62842083e-01 -3.33435684e-01 -5.56487441e-01\n",
            " -4.20986474e-01 -1.63223386e-01  5.27478993e-01 -1.10078728e+00\n",
            " -1.23840702e+00 -2.01045409e-01  8.92664969e-01 -6.59582078e-01\n",
            "  1.58823740e+00 -1.81425631e-01  2.90121406e-01  3.55146289e-01\n",
            "  2.56692648e-01  4.52452868e-01  2.63198376e-01  4.15716559e-01\n",
            " -5.12186408e-01 -3.37589949e-01  1.16341665e-01 -3.81552815e-01\n",
            " -8.65238756e-02  4.68231112e-01  1.54831499e-01 -1.07320869e+00\n",
            " -3.33823174e-01 -6.09868348e-01 -4.98024337e-02 -1.69415995e-01\n",
            "  1.50146976e-01 -4.29424793e-01 -4.62314904e-01 -4.12070245e-01\n",
            " -5.32851070e-02 -5.01070261e-01  5.99152684e-01 -3.25297236e-01\n",
            " -4.83621359e-01  7.74380088e-01 -1.33826450e-01 -5.46547949e-01\n",
            "  3.93466741e-01  9.98147279e-02 -9.00378004e-02  8.50659430e-01\n",
            " -6.11642562e-02 -6.89004540e-01  2.73505598e-01 -5.64475536e-01\n",
            "  6.15685165e-01  7.53877610e-02 -3.85744393e-01 -1.46690875e-01\n",
            "  3.35085213e-01  1.08532810e+00 -7.18960583e-01  1.29649863e-01\n",
            "  9.00451303e-01 -3.19953889e-01 -3.58188659e-01 -3.39499742e-01\n",
            " -9.11410034e-01  6.37332022e-01  2.23517627e-01  3.35661024e-01\n",
            " -7.11146235e-01  1.18259478e+00  5.18805742e-01  2.87018210e-01\n",
            " -4.08724368e-01 -2.67614275e-01  1.94097478e-02 -1.24196909e-01\n",
            "  5.04576750e-02  3.58127356e-01  1.61557138e-01  1.14542067e-01\n",
            " -3.20338994e-01  1.59210813e+00  1.58815570e-02  1.73494488e-01\n",
            "  2.95855343e-01 -5.62721848e-01 -8.42031896e-01 -5.44523597e-01\n",
            " -1.07686140e-01  3.78346741e-01 -2.49382645e-01  3.21064174e-01\n",
            "  4.56044972e-02 -4.50041234e-01  2.27379680e-01 -1.16997647e+00\n",
            "  1.51067674e-01 -1.58836320e-01 -5.36888599e-01 -1.53140056e+00\n",
            "  3.47423762e-01 -1.86778650e-01  9.86945093e-01  4.49438006e-01\n",
            "  9.56411585e-02  6.34626076e-02 -8.43035221e-01 -1.21223068e+00\n",
            " -2.04350144e-01 -1.01126575e+00  1.99426264e-01  3.85580510e-01\n",
            " -1.13952592e-01  5.56275323e-02  5.66910148e-01  1.52288839e-01\n",
            " -1.09512985e+00  5.39752066e-01  2.97557265e-01  7.01718390e-01\n",
            " -1.09478807e+00  3.47894251e-01  5.74566424e-01  3.42088580e-01\n",
            " -1.12954664e+00 -1.04378366e+00 -2.94706374e-01 -8.38114202e-01\n",
            "  4.36687708e-01  2.90938735e-01  1.27391934e-01  5.29775083e-01\n",
            "  8.36478770e-01 -7.39459395e-02  3.00080866e-01  4.54270065e-01\n",
            " -1.64930239e-01 -3.31930339e-01  5.40705383e-01 -2.35188156e-02\n",
            "  2.59707063e-01  1.53475389e-01  9.00338769e-01  7.47375414e-02\n",
            "  9.76740301e-01 -1.81100257e-02 -4.23601151e-01 -8.76891539e-02\n",
            "  7.50863850e-01  5.53427590e-03  3.24760556e-01  3.97919655e-01\n",
            "  6.97555318e-02  2.73132414e-01 -1.21587776e-01 -4.18982059e-01\n",
            "  6.32514477e-01 -1.18822515e+00  4.51344162e-01  3.10245693e-01\n",
            "  9.75547433e-01  4.93535876e-01 -4.32637542e-01 -9.05560315e-01\n",
            " -5.35620511e-01  5.30795574e-01 -5.88075161e-01  1.41714498e-01\n",
            " -3.27826202e-01  5.55173218e-01  7.74687707e-01  3.94782284e-03\n",
            "  6.19253814e-01 -3.01370233e-01  1.23161338e-01  5.99734664e-01\n",
            " -5.41715138e-02 -8.91221106e-01 -3.70836221e-02  3.13253313e-01\n",
            "  8.96949291e-01  3.54669571e-01 -2.24522918e-01 -6.04117513e-01\n",
            " -1.47935271e+00  4.85044777e-01 -1.12758614e-01  4.11598444e-01\n",
            " -9.63675454e-02  2.29110405e-01 -2.61982024e-01 -4.87351954e-01\n",
            " -2.31634557e-01  6.64248019e-02  6.25805080e-01  1.65271759e-01\n",
            "  3.35731775e-01  8.67941380e-01  6.17772043e-01  2.57778704e-01\n",
            " -5.47845140e-02  7.00697839e-01 -1.84444219e-01 -4.07796681e-01\n",
            " -8.56341839e-01  2.78111994e-01 -5.57233632e-01 -2.99542546e-02\n",
            "  1.19460762e-01 -1.62677646e-01  1.11005139e+00 -4.77158666e-01\n",
            " -7.31688380e-01 -2.26136878e-01 -5.03388420e-02 -3.98661733e-01\n",
            " -5.32373548e-01  2.21102521e-01 -3.92722189e-02  7.17589974e-01\n",
            " -1.00269186e+00 -1.18571468e-01 -4.15730774e-01  1.94719151e-01\n",
            "  7.95619607e-01 -4.26687747e-01 -3.67384285e-01  1.05198331e-01\n",
            " -1.11957884e+00  5.06237790e-04 -3.64533663e-01  4.09249604e-01\n",
            " -3.02294105e-01  1.51482388e-01 -3.37020487e-01 -9.40572500e-01\n",
            " -3.58974278e-01  2.14447930e-01  1.17010884e-01  8.00527394e-01\n",
            " -1.03670049e+00 -2.23520696e-01 -5.97007513e-01 -6.61039293e-01\n",
            "  4.92834210e-01 -5.74078858e-01 -4.39640224e-01 -1.50626535e-02\n",
            "  3.73821296e-02  4.37219590e-01 -1.36685282e-01  4.34745014e-01]\n"
          ]
        }
      ]
    },
    {
      "cell_type": "markdown",
      "metadata": {
        "id": "7ZYcrcb_aq7j"
      },
      "source": [
        "Implementing GP2"
      ]
    },
    {
      "cell_type": "code",
      "metadata": {
        "id": "xcYs1uo9aqn0"
      },
      "source": [
        "import torch\n",
        "import transformers\n",
        "\n",
        "\n"
      ],
      "execution_count": null,
      "outputs": []
    },
    {
      "cell_type": "code",
      "metadata": {
        "id": "bg-iEiw4aqSt"
      },
      "source": [
        "gptokenizer=transformers.GPT2Tokenizer.from_pretrained('gpt2-large')\n",
        "model=transformers.GPT2LMHeadModel.from_pretrained('gpt2-large')\n",
        "\n",
        "output=gptokenizer.encode(text,add_special_tokens=False,return_tensors=\"pt\")\n"
      ],
      "execution_count": null,
      "outputs": []
    },
    {
      "cell_type": "code",
      "metadata": {
        "colab": {
          "base_uri": "https://localhost:8080/"
        },
        "id": "PTwgsSfQaqCc",
        "outputId": "56d63fb7-2821-4287-a5c9-f37f9ab030cb"
      },
      "source": [
        "print(output)"
      ],
      "execution_count": null,
      "outputs": [
        {
          "output_type": "stream",
          "name": "stdout",
          "text": [
            "tensor([[20360,   318,   257,  2168,   286, 13439,   326,   389,  8389,   290,\n",
            "         24870,    11,   290,   389,   220,   198,   439,   220,  3519,   220,\n",
            "           284,   220,   257,   220,  2060,   220,  7243,    13,   220, 16699,\n",
            "           220,   790,   220,  3704,   220,   286,   220,  3597,   220,   345,\n",
            "           220,   466,   220,   326,   220,   318,   220,   198,  6511,   263,\n",
            "           220,   621,   220,   257,   220,  1178,   220, 13439,   220,   815,\n",
            "           220,   307,   220,  8389,   220,   656,   220, 23549,    13,   220,\n",
            "           770,   220,   318,   220,   198, 13893, 23549,   905,   257,  9173,\n",
            "           810,   262, 45944,  3279,   286,   281, 14268,  2221,   220,   198,\n",
            "           392,   886,    11,   290,  4145,  1037,   262,  9173,   766,   262,\n",
            "          4009,   286,   262, 14268,   290, 13180,   220,   198,   896,  1388,\n",
            "          2173,    13,   198, 10044,  6111,    82,   220,   460,   220,  3994,\n",
            "           220,   867,   220,  1180,   220,  6982,   220,   286,   220,  1321,\n",
            "            13,   220,   317,   220,  7322,   220,   198, 24089,   220,  3994,\n",
            "           220,   257,   220,  2168,   220,   286,   220,  4506,   220,  6096,\n",
            "           220,   393,   220,   257,   220,  2060,   220,   890,   220, 20936,\n",
            "           220,   286,   220,   257,   220,   198, 24622,   220,   966,    13,\n",
            "           220,   632,   220,  1244,   220,  6901,   220,   257,   220,  1295,\n",
            "           588,   479, 13597,  1045,    11,   220,  2095,    11,   220,   393,\n",
            "           220,  1429,    26,   220,  6664,   378,   220,   257,   220,   198,\n",
            "         25076,   286,  2995,    26,  8996,   393,  6273,   734,   393,   517,\n",
            "          1243,    26, 36509,  3709,   656,   220,   198,    66, 26129,    26,\n",
            "           220,   393,   220,  6901,   220,  5640,   220,   290,   220,  3048,\n",
            "            13,   220, 22250,   220,   286,   220,   262,   220,  1611,   220,\n",
            "           286,   220,   198, 17018,   484,  3994,    11,   477, 23549,  2648,\n",
            "          1728,  9695,    13,  1881,   220,   198,  1659,   262,   749,  1593,\n",
            "           286,   777,   318,   257,  7243,  6827,    13]])\n"
          ]
        }
      ]
    },
    {
      "cell_type": "code",
      "metadata": {
        "colab": {
          "base_uri": "https://localhost:8080/"
        },
        "id": "G067Lbwcapxy",
        "outputId": "a4629d15-7a83-425e-b18a-90b2fe670d65"
      },
      "source": [
        "print(output.shape)"
      ],
      "execution_count": null,
      "outputs": [
        {
          "output_type": "stream",
          "name": "stdout",
          "text": [
            "torch.Size([1, 267])\n"
          ]
        }
      ]
    },
    {
      "cell_type": "markdown",
      "metadata": {
        "id": "YlH7PTCdtZPP"
      },
      "source": [
        "Finding similar sentence"
      ]
    },
    {
      "cell_type": "code",
      "metadata": {
        "id": "8Xt3IIv0tcmS"
      },
      "source": [
        "from sentence_transformers import SentenceTransformer\n",
        "sbert_model = SentenceTransformer('bert-base-nli-mean-tokens')"
      ],
      "execution_count": null,
      "outputs": []
    },
    {
      "cell_type": "code",
      "metadata": {
        "id": "lmrKGxICtt1T"
      },
      "source": [
        "se_embeddings = sbert_model.encode(s1)"
      ],
      "execution_count": null,
      "outputs": []
    },
    {
      "cell_type": "code",
      "metadata": {
        "id": "wsNrWmlYt8DD"
      },
      "source": [
        "q1_vec= sbert_model.encode(s1[0])"
      ],
      "execution_count": null,
      "outputs": []
    },
    {
      "cell_type": "code",
      "metadata": {
        "id": "zFdk_ivAuGOZ"
      },
      "source": [
        "#Finding cosine similarity\n",
        "def cosine(u, v):\n",
        "    return np.dot(u, v) / (np.linalg.norm(u) * np.linalg.norm(v))"
      ],
      "execution_count": null,
      "outputs": []
    },
    {
      "cell_type": "code",
      "metadata": {
        "colab": {
          "base_uri": "https://localhost:8080/"
        },
        "id": "Q9ln8ocqwt6Q",
        "outputId": "303441f5-ce37-420c-d0a8-f65f38a32928"
      },
      "source": [
        "for sent in s1:\n",
        "  sim = cosine(q1_vec, sbert_model.encode([sent])[0])\n",
        "  print(\"Sentence = \", sent, \"; similarity = \", sim)"
      ],
      "execution_count": null,
      "outputs": [
        {
          "output_type": "stream",
          "name": "stdout",
          "text": [
            "Sentence =  paragraph is a series of sentences that are organized and coherent, and are \n",
            "all  related  to  a  single  topic. ; similarity =  1.0\n",
            "Sentence =  Almost  every  piece  of  writing  you  do  that  is \n",
            "longer  than  a  few  sentences  should  be  organized  into  paragraphs. ; similarity =  0.64265954\n",
            "Sentence =  This  is \n",
            "because paragraphs show a reader where the subdivisions of an essay begin \n",
            "and end, and thus help the reader see the organization of the essay and grasp \n",
            "its main points. ; similarity =  0.50349\n",
            "Sentence =  Paragraphs  can  contain  many  different  kinds  of  information. ; similarity =  0.58568335\n",
            "Sentence =  A  paragraph \n",
            "could  contain  a  series  of  brief  examples  or  a  single  long  illustration  of  a \n",
            "general  point. ; similarity =  0.6779764\n",
            "Sentence =  It  might  describe  a  place like kolkata,  character,  or  process;  narrate  a \n",
            "series of events; compare or contrast two or more things; classify items into \n",
            "categories;  or  describe  causes  and  effects. ; similarity =  0.4073866\n",
            "Sentence =  Regardless  of  the  kind  of \n",
            "information they contain, all paragraphs share certain characteristics. ; similarity =  0.8063064\n",
            "Sentence =  One \n",
            "of the most important of these is a topic sentence. ; similarity =  0.54022366\n"
          ]
        }
      ]
    },
    {
      "cell_type": "markdown",
      "metadata": {
        "id": "qfU05TSWzurj"
      },
      "source": [
        "Finding named entities for the given paragraph"
      ]
    },
    {
      "cell_type": "code",
      "metadata": {
        "id": "0Chvh6lY0D_g"
      },
      "source": [
        "custom_sent_tokenizer = PunktSentenceTokenizer(text)\n"
      ],
      "execution_count": null,
      "outputs": []
    },
    {
      "cell_type": "code",
      "metadata": {
        "id": "Pem30ti60S_N"
      },
      "source": [
        "tokenized = custom_sent_tokenizer.tokenize(text)"
      ],
      "execution_count": null,
      "outputs": []
    },
    {
      "cell_type": "code",
      "metadata": {
        "colab": {
          "base_uri": "https://localhost:8080/"
        },
        "id": "ytccRlC_0fn3",
        "outputId": "490957a9-bca0-4701-ca77-451b15f95c24"
      },
      "source": [
        "import nltk\n",
        "nltk.download('averaged_perceptron_tagger')\n",
        "nltk.download('maxent_ne_chunker')\n",
        "nltk.download('words')"
      ],
      "execution_count": null,
      "outputs": [
        {
          "output_type": "stream",
          "name": "stdout",
          "text": [
            "[nltk_data] Downloading package averaged_perceptron_tagger to\n",
            "[nltk_data]     /root/nltk_data...\n",
            "[nltk_data]   Unzipping taggers/averaged_perceptron_tagger.zip.\n",
            "[nltk_data] Downloading package maxent_ne_chunker to\n",
            "[nltk_data]     /root/nltk_data...\n",
            "[nltk_data]   Unzipping chunkers/maxent_ne_chunker.zip.\n",
            "[nltk_data] Downloading package words to /root/nltk_data...\n",
            "[nltk_data]   Unzipping corpora/words.zip.\n"
          ]
        },
        {
          "output_type": "execute_result",
          "data": {
            "text/plain": [
              "True"
            ]
          },
          "metadata": {},
          "execution_count": 24
        }
      ]
    },
    {
      "cell_type": "code",
      "metadata": {
        "id": "KUF_kW5D0r2U"
      },
      "source": [
        " for i in tokenized:\n",
        "            words = nltk.word_tokenize(i)\n",
        "            tagged = nltk.pos_tag(words)\n",
        "            namedEnt = nltk.ne_chunk(tagged, binary=True)"
      ],
      "execution_count": null,
      "outputs": []
    },
    {
      "cell_type": "code",
      "metadata": {
        "id": "5TsthNqX1EJN",
        "colab": {
          "base_uri": "https://localhost:8080/"
        },
        "outputId": "243615f7-d050-46cb-cc48-dd046e7a6fff"
      },
      "source": [
        "print(namedEnt)"
      ],
      "execution_count": null,
      "outputs": [
        {
          "output_type": "stream",
          "name": "stdout",
          "text": [
            "(S\n",
            "  One/CD\n",
            "  of/IN\n",
            "  the/DT\n",
            "  most/RBS\n",
            "  important/JJ\n",
            "  of/IN\n",
            "  these/DT\n",
            "  is/VBZ\n",
            "  a/DT\n",
            "  topic/JJ\n",
            "  sentence/NN\n",
            "  ./.)\n"
          ]
        }
      ]
    },
    {
      "cell_type": "markdown",
      "metadata": {
        "id": "qLP5EEafisRP"
      },
      "source": [
        "Another Method spacy\n",
        "Testing with NER with some other paragraphs"
      ]
    },
    {
      "cell_type": "code",
      "metadata": {
        "id": "aARJWT8Di3q_"
      },
      "source": [
        "import spacy\n",
        "from spacy import displacy\n",
        "from spacy import tokenizer\n",
        "nlp = spacy.load('en_core_web_sm')\n",
        "  "
      ],
      "execution_count": null,
      "outputs": []
    },
    {
      "cell_type": "code",
      "metadata": {
        "id": "Lkli2bfyf49w"
      },
      "source": [
        "t2='''Shah Rukh Khan ( born 2 November 1965), also known by the initialism SRK, is an Indian actor, film producer, and television personality who works in Hindi films. Referred to in the media as the \"Baadshah of Bollywood\" (in reference to his 1999 film Baadshah), \"King of Bollywood\" and \"King Khan\", he has appeared in more than 80 films, and earned numerous accolades, including 14 Filmfare Awards. The Government of India has awarded him the Padma Shri, and the Government of France has awarded him the Ordre des Arts et des Lettres and the Legion of Honour. Khan has a significant following in Asia and the Indian diaspora worldwide. In terms of audience size and income, he has been described as one of the most successful film stars in the world '''\n"
      ],
      "execution_count": null,
      "outputs": []
    },
    {
      "cell_type": "code",
      "metadata": {
        "id": "Yog-QnD3ghNe"
      },
      "source": [
        "doc = nlp(t2)"
      ],
      "execution_count": null,
      "outputs": []
    },
    {
      "cell_type": "code",
      "metadata": {
        "id": "qbmsbCTfko4b"
      },
      "source": [
        "sentences = list(doc.sents)"
      ],
      "execution_count": null,
      "outputs": []
    },
    {
      "cell_type": "code",
      "metadata": {
        "colab": {
          "base_uri": "https://localhost:8080/"
        },
        "id": "fXEJA2zMkwqk",
        "outputId": "afe95b6b-136a-41ad-d73a-49df45e85a01"
      },
      "source": [
        "for token in doc:\n",
        "    print(token.text)\n",
        "# print entities\n",
        "ents = [(e.text, e.start_char, e.end_char, e.label_) for e in doc.ents]\n",
        "print(ents)"
      ],
      "execution_count": null,
      "outputs": [
        {
          "output_type": "stream",
          "name": "stdout",
          "text": [
            "Shah\n",
            "Rukh\n",
            "Khan\n",
            "(\n",
            "born\n",
            "2\n",
            "November\n",
            "1965\n",
            ")\n",
            ",\n",
            "also\n",
            "known\n",
            "by\n",
            "the\n",
            "initialism\n",
            "SRK\n",
            ",\n",
            "is\n",
            "an\n",
            "Indian\n",
            "actor\n",
            ",\n",
            "film\n",
            "producer\n",
            ",\n",
            "and\n",
            "television\n",
            "personality\n",
            "who\n",
            "works\n",
            "in\n",
            "Hindi\n",
            "films\n",
            ".\n",
            "Referred\n",
            "to\n",
            "in\n",
            "the\n",
            "media\n",
            "as\n",
            "the\n",
            "\"\n",
            "Baadshah\n",
            "of\n",
            "Bollywood\n",
            "\"\n",
            "(\n",
            "in\n",
            "reference\n",
            "to\n",
            "his\n",
            "1999\n",
            "film\n",
            "Baadshah\n",
            ")\n",
            ",\n",
            "\"\n",
            "King\n",
            "of\n",
            "Bollywood\n",
            "\"\n",
            "and\n",
            "\"\n",
            "King\n",
            "Khan\n",
            "\"\n",
            ",\n",
            "he\n",
            "has\n",
            "appeared\n",
            "in\n",
            "more\n",
            "than\n",
            "80\n",
            "films\n",
            ",\n",
            "and\n",
            "earned\n",
            "numerous\n",
            "accolades\n",
            ",\n",
            "including\n",
            "14\n",
            "Filmfare\n",
            "Awards\n",
            ".\n",
            "The\n",
            "Government\n",
            "of\n",
            "India\n",
            "has\n",
            "awarded\n",
            "him\n",
            "the\n",
            "Padma\n",
            "Shri\n",
            ",\n",
            "and\n",
            "the\n",
            "Government\n",
            "of\n",
            "France\n",
            "has\n",
            "awarded\n",
            "him\n",
            "the\n",
            "Ordre\n",
            "des\n",
            "Arts\n",
            "et\n",
            "des\n",
            "Lettres\n",
            "and\n",
            "the\n",
            "Legion\n",
            "of\n",
            "Honour\n",
            ".\n",
            "Khan\n",
            "has\n",
            "a\n",
            "significant\n",
            "following\n",
            "in\n",
            "Asia\n",
            "and\n",
            "the\n",
            "Indian\n",
            "diaspora\n",
            "worldwide\n",
            ".\n",
            "In\n",
            "terms\n",
            "of\n",
            "audience\n",
            "size\n",
            "and\n",
            "income\n",
            ",\n",
            "he\n",
            "has\n",
            "been\n",
            "described\n",
            "as\n",
            "one\n",
            "of\n",
            "the\n",
            "most\n",
            "successful\n",
            "film\n",
            "stars\n",
            "in\n",
            "the\n",
            "world\n",
            "[('Shah Rukh Khan', 0, 14, 'PERSON'), ('2 November 1965', 22, 37, 'DATE'), ('Indian', 80, 86, 'NORP'), ('Hindi', 149, 154, 'GPE'), ('the \"Baadshah of Bollywood', 190, 216, 'PRODUCT'), ('1999', 239, 243, 'DATE'), ('Baadshah', 249, 257, 'GPE'), ('King of Bollywood', 261, 278, 'WORK_OF_ART'), ('more than 80', 316, 328, 'CARDINAL'), ('14', 377, 379, 'CARDINAL'), ('India', 415, 420, 'GPE'), ('the Padma Shri', 437, 451, 'PERSON'), ('France', 475, 481, 'GPE'), ('the Ordre des Arts et des Lettres and the Legion of Honour', 498, 556, 'ORG'), ('Khan', 558, 562, 'PERSON'), ('Asia', 594, 598, 'LOC'), ('Indian', 607, 613, 'NORP')]\n"
          ]
        }
      ]
    },
    {
      "cell_type": "code",
      "metadata": {
        "colab": {
          "base_uri": "https://localhost:8080/",
          "height": 189
        },
        "id": "9rB3sCQVk3YV",
        "outputId": "6e6def0f-57f3-4307-bfc4-2bb1ad92df95"
      },
      "source": [
        "displacy.render(doc, style='ent', jupyter=True)"
      ],
      "execution_count": null,
      "outputs": [
        {
          "output_type": "display_data",
          "data": {
            "text/html": [
              "<span class=\"tex2jax_ignore\"><div class=\"entities\" style=\"line-height: 2.5; direction: ltr\">\n",
              "<mark class=\"entity\" style=\"background: #aa9cfc; padding: 0.45em 0.6em; margin: 0 0.25em; line-height: 1; border-radius: 0.35em;\">\n",
              "    Shah Rukh Khan\n",
              "    <span style=\"font-size: 0.8em; font-weight: bold; line-height: 1; border-radius: 0.35em; text-transform: uppercase; vertical-align: middle; margin-left: 0.5rem\">PERSON</span>\n",
              "</mark>\n",
              " ( born \n",
              "<mark class=\"entity\" style=\"background: #bfe1d9; padding: 0.45em 0.6em; margin: 0 0.25em; line-height: 1; border-radius: 0.35em;\">\n",
              "    2 November 1965\n",
              "    <span style=\"font-size: 0.8em; font-weight: bold; line-height: 1; border-radius: 0.35em; text-transform: uppercase; vertical-align: middle; margin-left: 0.5rem\">DATE</span>\n",
              "</mark>\n",
              "), also known by the initialism SRK, is an \n",
              "<mark class=\"entity\" style=\"background: #c887fb; padding: 0.45em 0.6em; margin: 0 0.25em; line-height: 1; border-radius: 0.35em;\">\n",
              "    Indian\n",
              "    <span style=\"font-size: 0.8em; font-weight: bold; line-height: 1; border-radius: 0.35em; text-transform: uppercase; vertical-align: middle; margin-left: 0.5rem\">NORP</span>\n",
              "</mark>\n",
              " actor, film producer, and television personality who works in \n",
              "<mark class=\"entity\" style=\"background: #feca74; padding: 0.45em 0.6em; margin: 0 0.25em; line-height: 1; border-radius: 0.35em;\">\n",
              "    Hindi\n",
              "    <span style=\"font-size: 0.8em; font-weight: bold; line-height: 1; border-radius: 0.35em; text-transform: uppercase; vertical-align: middle; margin-left: 0.5rem\">GPE</span>\n",
              "</mark>\n",
              " films. Referred to in the media as \n",
              "<mark class=\"entity\" style=\"background: #bfeeb7; padding: 0.45em 0.6em; margin: 0 0.25em; line-height: 1; border-radius: 0.35em;\">\n",
              "    the &quot;Baadshah of Bollywood\n",
              "    <span style=\"font-size: 0.8em; font-weight: bold; line-height: 1; border-radius: 0.35em; text-transform: uppercase; vertical-align: middle; margin-left: 0.5rem\">PRODUCT</span>\n",
              "</mark>\n",
              "&quot; (in reference to his \n",
              "<mark class=\"entity\" style=\"background: #bfe1d9; padding: 0.45em 0.6em; margin: 0 0.25em; line-height: 1; border-radius: 0.35em;\">\n",
              "    1999\n",
              "    <span style=\"font-size: 0.8em; font-weight: bold; line-height: 1; border-radius: 0.35em; text-transform: uppercase; vertical-align: middle; margin-left: 0.5rem\">DATE</span>\n",
              "</mark>\n",
              " film \n",
              "<mark class=\"entity\" style=\"background: #feca74; padding: 0.45em 0.6em; margin: 0 0.25em; line-height: 1; border-radius: 0.35em;\">\n",
              "    Baadshah\n",
              "    <span style=\"font-size: 0.8em; font-weight: bold; line-height: 1; border-radius: 0.35em; text-transform: uppercase; vertical-align: middle; margin-left: 0.5rem\">GPE</span>\n",
              "</mark>\n",
              "), &quot;\n",
              "<mark class=\"entity\" style=\"background: #f0d0ff; padding: 0.45em 0.6em; margin: 0 0.25em; line-height: 1; border-radius: 0.35em;\">\n",
              "    King of Bollywood\n",
              "    <span style=\"font-size: 0.8em; font-weight: bold; line-height: 1; border-radius: 0.35em; text-transform: uppercase; vertical-align: middle; margin-left: 0.5rem\">WORK_OF_ART</span>\n",
              "</mark>\n",
              "&quot; and &quot;King Khan&quot;, he has appeared in \n",
              "<mark class=\"entity\" style=\"background: #e4e7d2; padding: 0.45em 0.6em; margin: 0 0.25em; line-height: 1; border-radius: 0.35em;\">\n",
              "    more than 80\n",
              "    <span style=\"font-size: 0.8em; font-weight: bold; line-height: 1; border-radius: 0.35em; text-transform: uppercase; vertical-align: middle; margin-left: 0.5rem\">CARDINAL</span>\n",
              "</mark>\n",
              " films, and earned numerous accolades, including \n",
              "<mark class=\"entity\" style=\"background: #e4e7d2; padding: 0.45em 0.6em; margin: 0 0.25em; line-height: 1; border-radius: 0.35em;\">\n",
              "    14\n",
              "    <span style=\"font-size: 0.8em; font-weight: bold; line-height: 1; border-radius: 0.35em; text-transform: uppercase; vertical-align: middle; margin-left: 0.5rem\">CARDINAL</span>\n",
              "</mark>\n",
              " Filmfare Awards. The Government of \n",
              "<mark class=\"entity\" style=\"background: #feca74; padding: 0.45em 0.6em; margin: 0 0.25em; line-height: 1; border-radius: 0.35em;\">\n",
              "    India\n",
              "    <span style=\"font-size: 0.8em; font-weight: bold; line-height: 1; border-radius: 0.35em; text-transform: uppercase; vertical-align: middle; margin-left: 0.5rem\">GPE</span>\n",
              "</mark>\n",
              " has awarded him \n",
              "<mark class=\"entity\" style=\"background: #aa9cfc; padding: 0.45em 0.6em; margin: 0 0.25em; line-height: 1; border-radius: 0.35em;\">\n",
              "    the Padma Shri\n",
              "    <span style=\"font-size: 0.8em; font-weight: bold; line-height: 1; border-radius: 0.35em; text-transform: uppercase; vertical-align: middle; margin-left: 0.5rem\">PERSON</span>\n",
              "</mark>\n",
              ", and the Government of \n",
              "<mark class=\"entity\" style=\"background: #feca74; padding: 0.45em 0.6em; margin: 0 0.25em; line-height: 1; border-radius: 0.35em;\">\n",
              "    France\n",
              "    <span style=\"font-size: 0.8em; font-weight: bold; line-height: 1; border-radius: 0.35em; text-transform: uppercase; vertical-align: middle; margin-left: 0.5rem\">GPE</span>\n",
              "</mark>\n",
              " has awarded him \n",
              "<mark class=\"entity\" style=\"background: #7aecec; padding: 0.45em 0.6em; margin: 0 0.25em; line-height: 1; border-radius: 0.35em;\">\n",
              "    the Ordre des Arts et des Lettres and the Legion of Honour\n",
              "    <span style=\"font-size: 0.8em; font-weight: bold; line-height: 1; border-radius: 0.35em; text-transform: uppercase; vertical-align: middle; margin-left: 0.5rem\">ORG</span>\n",
              "</mark>\n",
              ". \n",
              "<mark class=\"entity\" style=\"background: #aa9cfc; padding: 0.45em 0.6em; margin: 0 0.25em; line-height: 1; border-radius: 0.35em;\">\n",
              "    Khan\n",
              "    <span style=\"font-size: 0.8em; font-weight: bold; line-height: 1; border-radius: 0.35em; text-transform: uppercase; vertical-align: middle; margin-left: 0.5rem\">PERSON</span>\n",
              "</mark>\n",
              " has a significant following in \n",
              "<mark class=\"entity\" style=\"background: #ff9561; padding: 0.45em 0.6em; margin: 0 0.25em; line-height: 1; border-radius: 0.35em;\">\n",
              "    Asia\n",
              "    <span style=\"font-size: 0.8em; font-weight: bold; line-height: 1; border-radius: 0.35em; text-transform: uppercase; vertical-align: middle; margin-left: 0.5rem\">LOC</span>\n",
              "</mark>\n",
              " and the \n",
              "<mark class=\"entity\" style=\"background: #c887fb; padding: 0.45em 0.6em; margin: 0 0.25em; line-height: 1; border-radius: 0.35em;\">\n",
              "    Indian\n",
              "    <span style=\"font-size: 0.8em; font-weight: bold; line-height: 1; border-radius: 0.35em; text-transform: uppercase; vertical-align: middle; margin-left: 0.5rem\">NORP</span>\n",
              "</mark>\n",
              " diaspora worldwide. In terms of audience size and income, he has been described as one of the most successful film stars in the world </div></span>"
            ],
            "text/plain": [
              "<IPython.core.display.HTML object>"
            ]
          },
          "metadata": {}
        }
      ]
    },
    {
      "cell_type": "markdown",
      "metadata": {
        "id": "r2j0-JIfqQtQ"
      },
      "source": [
        ""
      ]
    }
  ]
}